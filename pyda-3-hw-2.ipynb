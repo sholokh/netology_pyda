{
 "cells": [
  {
   "cell_type": "markdown",
   "metadata": {},
   "source": [
    "## Задание 1"
   ]
  },
  {
   "cell_type": "markdown",
   "metadata": {},
   "source": [
    "Дан список вида:"
   ]
  },
  {
   "cell_type": "code",
   "execution_count": 5,
   "metadata": {},
   "outputs": [
    {
     "name": "stdout",
     "output_type": "stream",
     "text": [
      "103\n"
     ]
    }
   ],
   "source": [
    "data = [\n",
    "    [13, 25, 23, 34],\n",
    "    [45, 32, 44, 47],\n",
    "    [12, 33, 23, 95],\n",
    "    [13, 53, 34, 35]\n",
    "]\n",
    "def sum_diag (data):\n",
    "    return sum(data[i][i] for i in range(len(data)))\n",
    "\n",
    "result = sum_diag(data)\n",
    "print(result)"
   ]
  },
  {
   "cell_type": "markdown",
   "metadata": {},
   "source": [
    "Напишите функцию, которая возвращает сумму элементов на диагонали. Т. е. 13+32+23+35."
   ]
  },
  {
   "cell_type": "markdown",
   "metadata": {},
   "source": [
    "## Задание 2"
   ]
  },
  {
   "cell_type": "markdown",
   "metadata": {},
   "source": [
    "Дан список чисел, часть из которых имеют строковый тип или содержат буквы. Напишите функцию, которая возвращает сумму квадратов элементов, которые могут быть числами."
   ]
  },
  {
   "cell_type": "code",
   "execution_count": 13,
   "metadata": {},
   "outputs": [
    {
     "name": "stdout",
     "output_type": "stream",
     "text": [
      "430\n"
     ]
    }
   ],
   "source": [
    "data = [1, '5', 'abc', 20, '2']\n",
    "def summ_squer (data): \n",
    "    summ = 0\n",
    "    for i in data:\n",
    "        try:\n",
    "            num = int(i)\n",
    "            summ += num**2\n",
    "        except (ValueError, TypeError):\n",
    "            continue\n",
    "    return (summ)\n",
    "result = summ_squer(data)\n",
    "print(result)\n",
    "\n",
    "\n",
    "        "
   ]
  },
  {
   "cell_type": "markdown",
   "metadata": {},
   "source": [
    "## Задание 3"
   ]
  },
  {
   "cell_type": "markdown",
   "metadata": {},
   "source": [
    "Напишите функцию, возвращающую сумму первых n чисел Фибоначчи."
   ]
  },
  {
   "cell_type": "code",
   "execution_count": 27,
   "metadata": {},
   "outputs": [
    {
     "name": "stdout",
     "output_type": "stream",
     "text": [
      "88\n"
     ]
    }
   ],
   "source": [
    "def fibonacci_sum(n, a=0, b=1, total=0):\n",
    "    if n <= 0:\n",
    "        return total\n",
    "    return fibonacci_sum(n-1, b, a + b, total + a)\n",
    "n = 10\n",
    "result = fibonacci_sum(n)\n",
    "print(result)"
   ]
  },
  {
   "cell_type": "code",
   "execution_count": 26,
   "metadata": {},
   "outputs": [
    {
     "name": "stdout",
     "output_type": "stream",
     "text": [
      "88\n"
     ]
    }
   ],
   "source": [
    "def fibonacci_sum(n):\n",
    "    a, b = 0, 1\n",
    "    total = 0\n",
    "    for _ in range(n):  # ← тут именно n\n",
    "        total += a\n",
    "        a, b = b, a + b\n",
    "    return total\n",
    "n = 10\n",
    "result = fibonacci_sum(n)\n",
    "print(result)"
   ]
  },
  {
   "cell_type": "markdown",
   "metadata": {},
   "source": [
    "## Задание 4"
   ]
  },
  {
   "cell_type": "markdown",
   "metadata": {},
   "source": [
    "Дан набор данных об обучении студентов на курсе программирования, который содержит: \n",
    "1) имя\n",
    "2) фамилию \n",
    "3) пол \n",
    "4) наличие у студента опыта в программировании \n",
    "5) набор оценок за домашние работы \n",
    "6) оценку за итоговую работу.\n",
    "\n",
    "Напишите программу, которая будет принимать команду от пользователя и возвращать соотвествующий результат.\n",
    "Список команд: \n",
    "1 - вывести на экран среднюю оценку за все ДЗ по группе и вывести на экран среднюю оценку за экзамен по группе;\n",
    "2 - вывести среднюю оценку за ДЗ и за экзамен по группе в разрезе пола студентов\n",
    "3 - вывести среднюю оценку за ДЗ и за экзамен в разрезе наличия опыта в программировании у студентов.\n",
    "\n",
    "Прогрмма должна быть полностью декомпозирована на функции (кроме объявления функций и вызова итоговой функции в реализации ничего быть не должно)."
   ]
  },
  {
   "cell_type": "code",
   "execution_count": 65,
   "metadata": {},
   "outputs": [
    {
     "name": "stdout",
     "output_type": "stream",
     "text": [
      "Василий :средний балл = 8.80\n",
      "Мария :средний балл = 8.00\n",
      "Ирина :средний балл = 9.40\n",
      "Татьяна :средний балл = 8.00\n",
      "Иван :средний балл = 8.20\n",
      "Роман :средний балл = 8.20\n",
      "\n",
      "Средний балл по группе: 8.43\n",
      "\n",
      "Средний балл за экзамен по группе: 9.17\n",
      "\n",
      "Средний балл по домашним заданиям женщинам: 8.36\n",
      "\n",
      "Средний балл по домашним заданиям мужчинам: 8.80\n",
      "\n",
      "Средний балл по экзаменам женщинам: 9.20\n",
      "\n",
      "Средний балл по экзаменам заданиям мужчинам: 9.00\n",
      "\n",
      "Средний балл по домашним заданиям у опытных: 8.48\n",
      "\n",
      "Средний балл по домашним заданиям новичков: 8.20\n",
      "\n",
      "Средний балл по экзаменам у опытных: 9.00\n",
      "\n",
      "Средний балл по экзаменам у неопытных: 10.00\n"
     ]
    }
   ],
   "source": [
    "students_list = [\n",
    "    {'name': 'Василий', 'surname': 'Теркин', 'sex': 'м', 'program_exp': True, 'grade': [8, 8, 9, 10, 9], 'exam': 9},\n",
    "    {'name': 'Мария', 'surname': 'Павлова', 'sex': 'ж', 'program_exp': True, 'grade': [7, 8, 9, 7, 9], 'exam': 8},\n",
    "    {'name': 'Ирина', 'surname': 'Андреева', 'sex': 'ж', 'program_exp': True, 'grade': [10, 9, 8, 10, 10], 'exam': 10},\n",
    "    {'name': 'Татьяна', 'surname': 'Сидорова', 'sex': 'ж', 'program_exp': True, 'grade': [7, 8, 8, 9, 8], 'exam': 8},\n",
    "    {'name': 'Иван', 'surname': 'Васильев', 'sex': 'ж', 'program_exp': True, 'grade': [9, 8, 9, 6, 9], 'exam': 10},\n",
    "    {'name': 'Роман', 'surname': 'Золотарев', 'sex': 'ж', 'program_exp': False, 'grade': [8, 9, 9, 6, 9], 'exam': 10}\n",
    "    \n",
    "]\n",
    "def avg_hw_group(students_list):\n",
    "    avg_student = []\n",
    "    for i in students_list:\n",
    "        hw = i['grade']\n",
    "        avg_hw = sum(hw) / len(hw)\n",
    "        avg_student.append(avg_hw)\n",
    "        print(f\"{i['name']} :средний балл = {avg_hw:.2f}\")\n",
    "    avg_group = sum(avg_student) / len(avg_student)\n",
    "    return (avg_group)\n",
    "result = avg_hw_group(students_list)\n",
    "print(f\"\\nСредний балл по группе: {result:.2f}\")\n",
    "\n",
    "def avg_exam_grop(students_list):\n",
    "    avg_exam = []\n",
    "    for i in students_list:\n",
    "        avg_exam.append(i['exam'])\n",
    "    avg_e_group = sum(avg_exam) / len (avg_exam)\n",
    "    return(avg_e_group)\n",
    "result_exam = avg_exam_grop(students_list)\n",
    "print(f\"\\nСредний балл за экзамен по группе: {result_exam:.2f}\")\n",
    "\n",
    "def avg_hw_group_sex(students_list, sex):\n",
    "    avg_student = []\n",
    "    for i in students_list:\n",
    "        if i['sex'] == sex:\n",
    "            hw = i['grade']\n",
    "            avg_hw = sum(hw) / len(hw)\n",
    "            avg_student.append(avg_hw)\n",
    "            \n",
    "    if avg_student:\n",
    "        avg_group = sum(avg_student) / len(avg_student)\n",
    "        return avg_group\n",
    "    else:\n",
    "        return 0\n",
    "result_women = avg_hw_group_sex(students_list, 'ж')\n",
    "print(f\"\\nСредний балл по домашним заданиям женщинам: {result_women:.2f}\")\n",
    "\n",
    "result_men = avg_hw_group_sex(students_list, 'м')\n",
    "print(f\"\\nСредний балл по домашним заданиям мужчинам: {result_men:.2f}\")\n",
    "\n",
    "def avg_ex_group_sex(students_list, sex):\n",
    "    avg_exam = []\n",
    "    avg_exam = [i['exam'] for i in students_list if i['sex'] == sex]\n",
    "    if avg_exam:\n",
    "        return sum(avg_exam) / len(avg_exam)\n",
    "    else:\n",
    "        return 0\n",
    "\n",
    "\n",
    "result_women_ex = avg_ex_group_sex(students_list, 'ж')\n",
    "\n",
    "print(f\"\\nСредний балл по экзаменам женщинам: {result_women_ex:.2f}\")\n",
    "\n",
    "result_men_ex = avg_ex_group_sex(students_list, 'м')\n",
    "print(f\"\\nСредний балл по экзаменам заданиям мужчинам: {result_men_ex:.2f}\")\n",
    "\n",
    "def avg_hw_group_exp(students_list, program_exp):\n",
    "    avg_student = []\n",
    "    for i in students_list:\n",
    "        if i['program_exp'] == program_exp:\n",
    "            hw = i['grade']\n",
    "            avg_hw = sum(hw) / len(hw)\n",
    "            avg_student.append(avg_hw)\n",
    "            \n",
    "    if avg_student:\n",
    "        avg_group = sum(avg_student) / len(avg_student)\n",
    "        return avg_group\n",
    "    else:\n",
    "        return 0\n",
    "result_exp = avg_hw_group_exp(students_list, True)\n",
    "print(f\"\\nСредний балл по домашним заданиям у опытных: {result_exp:.2f}\")\n",
    "\n",
    "result_unexp = avg_hw_group_exp(students_list, False)\n",
    "print(f\"\\nСредний балл по домашним заданиям новичков: {result_unexp:.2f}\")\n",
    "\n",
    "def avg_ex_group_exp(students_list, program_exp):\n",
    "    avg_exam = []\n",
    "    avg_exam = [i['exam'] for i in students_list if i['program_exp'] == program_exp]\n",
    "    if avg_exam:\n",
    "        return sum(avg_exam) / len(avg_exam)\n",
    "    else:\n",
    "        return 0\n",
    "\n",
    "\n",
    "result_ex_exp = avg_ex_group_exp(students_list, True)\n",
    "\n",
    "print(f\"\\nСредний балл по экзаменам у опытных: {result_ex_exp:.2f}\")\n",
    "\n",
    "result_ex_unexp = avg_ex_group_exp(students_list, False)\n",
    "print(f\"\\nСредний балл по экзаменам у неопытных: {result_ex_unexp:.2f}\")\n",
    "\n",
    "\n"
   ]
  },
  {
   "cell_type": "code",
   "execution_count": null,
   "metadata": {},
   "outputs": [],
   "source": []
  }
 ],
 "metadata": {
  "kernelspec": {
   "display_name": "Python 3 (ipykernel)",
   "language": "python",
   "name": "python3"
  },
  "language_info": {
   "codemirror_mode": {
    "name": "ipython",
    "version": 3
   },
   "file_extension": ".py",
   "mimetype": "text/x-python",
   "name": "python",
   "nbconvert_exporter": "python",
   "pygments_lexer": "ipython3",
   "version": "3.12.7"
  }
 },
 "nbformat": 4,
 "nbformat_minor": 4
}
