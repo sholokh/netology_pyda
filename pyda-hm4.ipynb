{
 "cells": [
  {
   "cell_type": "code",
   "execution_count": 20,
   "id": "cf61b2d6-b33e-48c1-9c3f-a173b7f6e338",
   "metadata": {},
   "outputs": [
    {
     "name": "stdout",
     "output_type": "stream",
     "text": [
      "USD value: 80.3134\n",
      "EUR value: 90.1011\n",
      "USD diff: 0.0897\n",
      "EUR diff: -0.281\n",
      "Валюта с самым высоким курсом: СДР (специальные права заимствования) (XDR), курс: 108.4817 руб.\n"
     ]
    }
   ],
   "source": [
    "\n",
    "import requests\n",
    "\n",
    "# Класс для получения курса валют\n",
    "class Rate:\n",
    "    def __init__(self, diff=False):\n",
    "        self.diff = diff\n",
    "        url = \"https://www.cbr-xml-daily.ru/daily_json.js\"\n",
    "        response = requests.get(url)\n",
    "        self.data = response.json()\n",
    "\n",
    "    def get_currency(self, code):\n",
    "        currency = self.data[\"Valute\"][code]\n",
    "        if self.diff:\n",
    "            return round(currency[\"Value\"] - currency[\"Previous\"], 4)\n",
    "        else:\n",
    "            return currency[\"Value\"]\n",
    "\n",
    "    def usd(self):\n",
    "        return self.get_currency(\"USD\")\n",
    "\n",
    "    def eur(self):\n",
    "        return self.get_currency(\"EUR\")\n",
    "\n",
    "# Примеры использования\n",
    "r1 = Rate(diff=False)\n",
    "print(\"USD value:\", r1.usd())\n",
    "print(\"EUR value:\", r1.eur())\n",
    "\n",
    "r2 = Rate(diff=True)\n",
    "print(\"USD diff:\", r2.usd())\n",
    "print(\"EUR diff:\", r2.eur())\n",
    "\n",
    "      \n",
    "def get_max_currency_name():\n",
    "    url = \"https://www.cbr-xml-daily.ru/daily_json.js\"  \n",
    "    response = requests.get(url)\n",
    "    data = response.json()\n",
    "    currencies = data[\"Valute\"]\n",
    "    \n",
    "    max_currency = max(currencies.values(), key=lambda x: x[\"Value\"])\n",
    "    print(f\"Валюта с самым высоким курсом: {max_currency['Name']} ({max_currency['CharCode']}), курс: {max_currency['Value']} руб.\")\n",
    "get_max_currency_name()\n"
   ]
  },
  {
   "cell_type": "code",
   "execution_count": 25,
   "id": "af82f0e6-52f0-4fc6-ba26-7bd92d46baa2",
   "metadata": {},
   "outputs": [
    {
     "name": "stdout",
     "output_type": "stream",
     "text": [
      "Olga Petrova, grade:4\n",
      "Ivan Ivanov, grade:10\n"
     ]
    }
   ],
   "source": [
    "class Employee:\n",
    "    def __init__(self, name, surname):\n",
    "        self.name = name\n",
    "        self.surname = surname\n",
    "        self.grade = 1\n",
    "        \n",
    "    def get_full_info(self):\n",
    "        return f\"{self.name} {self.surname}, grade:{self.grade}\"\n",
    "\n",
    "class Designer(Employee):\n",
    "    def __init__(self, name, surname, awards):\n",
    "        super().__init__(name, surname)  # вызываем конструктор родителя\n",
    "        self.awards = awards\n",
    "        self.grade += awards  # прибавляем 1 за каждую премию\n",
    "        if self.grade > 10:\n",
    "            self.grade = 10  # ограничиваем максимумом\n",
    "\n",
    "# Пример использования:\n",
    "d1 = Designer(\"Olga\", \"Petrova\", 3)\n",
    "d2 = Designer(\"Ivan\", \"Ivanov\", 12)\n",
    "\n",
    "print(d1.get_full_info())  # Olga Petrova, grade: 4\n",
    "print(d2.get_full_info())  # Ivan Ivanov, grade: 10"
   ]
  },
  {
   "cell_type": "code",
   "execution_count": null,
   "id": "5b4946d8-d0d3-43d7-af47-7d749d3e2b85",
   "metadata": {},
   "outputs": [],
   "source": []
  }
 ],
 "metadata": {
  "kernelspec": {
   "display_name": "Python 3 (ipykernel)",
   "language": "python",
   "name": "python3"
  },
  "language_info": {
   "codemirror_mode": {
    "name": "ipython",
    "version": 3
   },
   "file_extension": ".py",
   "mimetype": "text/x-python",
   "name": "python",
   "nbconvert_exporter": "python",
   "pygments_lexer": "ipython3",
   "version": "3.12.7"
  }
 },
 "nbformat": 4,
 "nbformat_minor": 5
}
