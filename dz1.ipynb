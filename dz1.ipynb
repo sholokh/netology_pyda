{
 "cells": [
  {
   "cell_type": "markdown",
   "metadata": {},
   "source": [
    "**Задание 1**. Даны 2 строки: *long_phrase* и *short_phrase*. \n",
    "Напишите код, который проверяет действительно ли длинная фраза *long_phrase* длиннее короткой *short_phrase*. И выводит *True* или *False* в зависимости от результата сравнения."
   ]
  },
  {
   "cell_type": "code",
   "execution_count": 1,
   "metadata": {},
   "outputs": [
    {
     "name": "stdout",
     "output_type": "stream",
     "text": [
      "True\n"
     ]
    }
   ],
   "source": [
    "long_phrase = 'Насколько проще было бы писать программы, если бы не заказчики'\n",
    "short_phrase = '640Кб должно хватить для любых задач. Билл Гейтс (по легенде)'\n",
    "print(len(long_phrase)>len(short_phrase))\n"
   ]
  },
  {
   "cell_type": "code",
   "execution_count": null,
   "metadata": {},
   "outputs": [],
   "source": []
  },
  {
   "cell_type": "markdown",
   "metadata": {},
   "source": [
    "**Задание 2**. Дано значение объема файла в байтах. Напишите перевод этого значения в мегабайты в формате: \"*Объем файла равен 213.68Mb*\""
   ]
  },
  {
   "cell_type": "code",
   "execution_count": 7,
   "metadata": {},
   "outputs": [
    {
     "name": "stdout",
     "output_type": "stream",
     "text": [
      "объема файла в байтах546548\n",
      "Объем файла равен 0.5212287902832031 Mb\n"
     ]
    }
   ],
   "source": [
    "byte= input ('объема файла в байтах')\n",
    "Mbyte=(int(byte)/1048576)\n",
    "print ('Объем файла равен', Mbyte, 'Mb')"
   ]
  },
  {
   "cell_type": "markdown",
   "metadata": {},
   "source": [
    "**Задание 3**. Разработать приложение для определения знака зодиака по дате рождения. Пример:\n",
    "\n",
    "Введите месяц: март\n",
    "\n",
    "Введите число: 6\n",
    "\n",
    "Вывод:\n",
    "Рыбы"
   ]
  },
  {
   "cell_type": "code",
   "execution_count": 29,
   "metadata": {},
   "outputs": [
    {
     "name": "stdout",
     "output_type": "stream",
     "text": [
      "Введите число:15\n",
      "Введите месяц:Октябрь\n",
      "Весы\n"
     ]
    }
   ],
   "source": [
    "number = input ('Введите число:')\n",
    "month = input ('Введите месяц:')\n",
    "if ((number >= '21' and month == 'Март') or (number <= '20' and month == 'Апрель')):\n",
    "    print ('Овен');\n",
    "elif ((number >= '21' and month == 'Апрель') or (number <= '20' and month == 'Май')):\n",
    "    print ('Телец');\n",
    "elif ((number >= '21' and month == 'Май') or (number <= '20' and month == 'Июня')):\n",
    "    print ('Близнецы')\n",
    "elif ((number >= '21' and month == 'Июнь') or (number <= '20' and month == 'Июль')):\n",
    "    print ('Рак')\n",
    "elif ((number >= '21' and month == 'Июль') or (number <= '20' and month == 'Август')):\n",
    "    print ('Лев')\n",
    "elif ((number >= '21' and month == 'Августа') or (number <= '20' and month == 'Сентябрь')):\n",
    "    print ('Дева')\n",
    "elif ((number >= '21' and month == 'Сентябрь') or (number <= '20' and month == 'Октябрь')):\n",
    "    print ('Весы')\n",
    "elif ((number >= '21' and month == 'Октября') or (number <= '20' and month == 'Ноября')):\n",
    "    print ('Скорпион')\n",
    "elif ((number >= '21' and month == 'Ноябрь') or (number <= '20' and month == 'Декабрь')):\n",
    "    print ('Стрелец')\n",
    "elif ((number >= '21' and month == 'Декабрь') or (number <= '20' and month == 'Январь')):\n",
    "    print ('Козерог')\n",
    "elif ((number >= '21' and month == 'Январь') or (number <= '20' and month == 'Февраль')):\n",
    "    print ('Водолей')\n",
    "elif ((number >= '21' and month == 'Февраль') or (number <= '20' and month == 'Март')):\n",
    "    print ('Рыбы')\n",
    "else: \n",
    "    print('Знак зодиака не определен')"
   ]
  },
  {
   "cell_type": "markdown",
   "metadata": {},
   "source": [
    "**Задание 4**. Нужно разработать приложение для финансового планирования.\n",
    "Приложение учитывает сколько уходит на ипотеку, \"на жизнь\" и сколько нужно отложить на пенсию.\n",
    "Пользователь вводит:\n",
    "- заработанную плату в месяц.\n",
    "- сколько процентов от ЗП уходит на ипотеку.\n",
    "- сколько процентов от ЗП уходит \"на жизнь\".\n",
    "- сколько раз приходит премия в год.\n",
    "\n",
    "Остальная часть заработанной платы откладывается на пенсию.\n",
    "\n",
    "Также пользователю приходит премия в размере зарплаты, от которой половина уходит на отпуск, а вторая половина откладывается.\n",
    "\n",
    "Программа должна учитывать сколько премий было в год.\n",
    "\n",
    "Нужно вывести сколько денег тратит пользователь на ипотеку и сколько он накопит за год.\n",
    "\n",
    "Пример:\n",
    "\n",
    "Введите заработанную плату в месяц: 100000\n",
    "\n",
    "Введите сколько процентов уходит на ипотеку: 30\n",
    "\n",
    "Введите сколько процентов уходит на жизнь: 50\n",
    "\n",
    "Введите количество премий за год: 2\n",
    "\n",
    "Вывод:\n",
    "На ипотеку было потрачено: 360000 рублей\n",
    "Было накоплено: 340000 рублей"
   ]
  },
  {
   "cell_type": "code",
   "execution_count": 41,
   "metadata": {
    "scrolled": true
   },
   "outputs": [
    {
     "name": "stdout",
     "output_type": "stream",
     "text": [
      "Введите заработанную плату в месяц:100000\n",
      "Введите сколько процентов от ЗП уходит на ипотеку:40\n",
      "Введите сколько процентов от ЗП уходит \"на жизнь\":40\n",
      "Введите количество премий за год\":3\n",
      "На ипотеку было потрачено: 480000 рублей  Было накоплено: 390000 рублей\n"
     ]
    }
   ],
   "source": [
    "wage = input ('Введите заработанную плату в месяц:')\n",
    "mortgage = input ('Введите сколько процентов от ЗП уходит на ипотеку:')\n",
    "life = input ('Введите сколько процентов от ЗП уходит \"на жизнь\":')\n",
    "prize = input ('Введите количество премий за год\":')\n",
    "save=((int(wage)-((int(wage)/100)*int(mortgage))-((int(wage)/100)*int(life)))*12) + (int(prize)*(int(wage)/2))\n",
    "mortgage_year=(int(wage)/100)*int(mortgage)*12\n",
    "print ('На ипотеку было потрачено:',int(mortgage_year), 'рублей ','Было накоплено:', int(save), 'рублей')"
   ]
  },
  {
   "cell_type": "code",
   "execution_count": null,
   "metadata": {},
   "outputs": [],
   "source": []
  }
 ],
 "metadata": {
  "kernelspec": {
   "display_name": "Python 3",
   "language": "python",
   "name": "python3"
  },
  "language_info": {
   "codemirror_mode": {
    "name": "ipython",
    "version": 3
   },
   "file_extension": ".py",
   "mimetype": "text/x-python",
   "name": "python",
   "nbconvert_exporter": "python",
   "pygments_lexer": "ipython3",
   "version": "3.7.3"
  }
 },
 "nbformat": 4,
 "nbformat_minor": 2
}
